{
 "cells": [
  {
   "cell_type": "code",
   "execution_count": 13,
   "metadata": {},
   "outputs": [],
   "source": [
    "def person_is_seller(name):\n",
    "    return name[-1] == 'm'\n",
    "\n",
    "from collections import deque\n",
    "# model the graph\n",
    "graph = {}\n",
    "graph[\"you\"] = [\"alice\",\"bob\",\"claire\"]\n",
    "graph[\"bob\"] = [\"anuj\",\"peggy\"]\n",
    "graph[\"alice\"] = [\"peggy\"]\n",
    "graph[\"claire\"] = [\"thom\",\"jonny\"]\n",
    "graph[\"anuj\"] = []\n",
    "graph[\"peggy\"] = []\n",
    "graph[\"thom\"] = []\n",
    "graph[\"jonny\"] = []\n",
    "# BFS\n",
    "def search(name):\n",
    "    search_queue = deque()\n",
    "    search_queue += graph[name]\n",
    "    searched = []\n",
    "    while search_queue:\n",
    "        person = search_queue.popleft()\n",
    "        if not person in searched:\n",
    "            if person_is_seller(person):\n",
    "                print(person + \" is a mango seller!\")\n",
    "                return True\n",
    "            else:\n",
    "                search_queue += graph[person]\n",
    "    return False\n"
   ]
  },
  {
   "cell_type": "code",
   "execution_count": 14,
   "metadata": {},
   "outputs": [
    {
     "data": {
      "text/plain": [
       "False"
      ]
     },
     "execution_count": 14,
     "metadata": {},
     "output_type": "execute_result"
    }
   ],
   "source": [
    "search(\"bob\")"
   ]
  },
  {
   "cell_type": "code",
   "execution_count": null,
   "metadata": {
    "collapsed": true
   },
   "outputs": [],
   "source": []
  }
 ],
 "metadata": {
  "kernelspec": {
   "display_name": "Python 3",
   "language": "python",
   "name": "python3"
  },
  "language_info": {
   "codemirror_mode": {
    "name": "ipython",
    "version": 3
   },
   "file_extension": ".py",
   "mimetype": "text/x-python",
   "name": "python",
   "nbconvert_exporter": "python",
   "pygments_lexer": "ipython3",
   "version": "3.6.3"
  }
 },
 "nbformat": 4,
 "nbformat_minor": 2
}
