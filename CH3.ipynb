{
 "cells": [
  {
   "cell_type": "code",
   "execution_count": 15,
   "metadata": {
    "collapsed": true
   },
   "outputs": [],
   "source": [
    "def findSmaller(arr):\n",
    "    smallest_i = 0\n",
    "    smallest = arr[smallest_i]\n",
    "    \n",
    "#     for i in range(len(arr)):\n",
    "    for i in range(1,len(arr)):\n",
    "        element = arr[i]\n",
    "        if element < smallest:\n",
    "            smallest_i = i\n",
    "            smallest = element\n",
    "    return smallest_i\n",
    "\n",
    "def selectionSort(arr):\n",
    "    result = []\n",
    "    for i in range(len(arr)):\n",
    "        result.append(arr.pop(findSmaller(arr)))\n",
    "    return result\n",
    "#  arr.pop(index) return arr[index], arr = arr - arr[index]"
   ]
  },
  {
   "cell_type": "code",
   "execution_count": 16,
   "metadata": {},
   "outputs": [
    {
     "data": {
      "text/plain": [
       "[2, 2, 3, 3, 3, 4, 4, 6, 56, 465]"
      ]
     },
     "execution_count": 16,
     "metadata": {},
     "output_type": "execute_result"
    }
   ],
   "source": [
    "arr = [2,3,4,2,3,465,6,4,3,56]\n",
    "selectionSort(arr)"
   ]
  },
  {
   "cell_type": "code",
   "execution_count": 22,
   "metadata": {},
   "outputs": [],
   "source": [
    "def fabs(n):\n",
    "    if n <= 1:\n",
    "        return 1 \n",
    "    else:\n",
    "        return n*fabs(n-1)"
   ]
  },
  {
   "cell_type": "code",
   "execution_count": 25,
   "metadata": {},
   "outputs": [
    {
     "name": "stdout",
     "output_type": "stream",
     "text": [
      "24\n"
     ]
    }
   ],
   "source": [
    "print(fabs(4))"
   ]
  },
  {
   "cell_type": "code",
   "execution_count": null,
   "metadata": {
    "collapsed": true
   },
   "outputs": [],
   "source": []
  }
 ],
 "metadata": {
  "kernelspec": {
   "display_name": "Python 3",
   "language": "python",
   "name": "python3"
  },
  "language_info": {
   "codemirror_mode": {
    "name": "ipython",
    "version": 3
   },
   "file_extension": ".py",
   "mimetype": "text/x-python",
   "name": "python",
   "nbconvert_exporter": "python",
   "pygments_lexer": "ipython3",
   "version": "3.6.3"
  }
 },
 "nbformat": 4,
 "nbformat_minor": 2
}
