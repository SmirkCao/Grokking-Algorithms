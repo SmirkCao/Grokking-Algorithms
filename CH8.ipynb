{
 "cells": [
  {
   "cell_type": "code",
   "execution_count": 1,
   "metadata": {},
   "outputs": [],
   "source": [
    "states_needed = set([\"mt\",\"wa\",\"or\",\"id\",\"nv\",\"ut\",\"ca\",\"az\"])\n",
    "stations = {}\n",
    "stations[\"kone\"] = set([\"id\",\"nv\",\"ut\"])\n",
    "stations[\"ktwo\"] = set([\"wa\",\"id\",\"mt\"])\n",
    "stations[\"kthree\"] = set([\"or\",\"nv\",\"ca\"])\n",
    "stations[\"kfour\"] = set([\"nv\",\"ut\"])\n",
    "stations[\"kfive\"] = set([\"ca\",\"az\"])"
   ]
  },
  {
   "cell_type": "code",
   "execution_count": 2,
   "metadata": {},
   "outputs": [
    {
     "data": {
      "text/plain": [
       "dict_items([('kone', {'id', 'nv', 'ut'}), ('ktwo', {'id', 'wa', 'mt'}), ('kthree', {'nv', 'or', 'ca'}), ('kfour', {'nv', 'ut'}), ('kfive', {'ca', 'az'})])"
      ]
     },
     "execution_count": 2,
     "metadata": {},
     "output_type": "execute_result"
    }
   ],
   "source": [
    "stations.items()"
   ]
  },
  {
   "cell_type": "code",
   "execution_count": 3,
   "metadata": {},
   "outputs": [
    {
     "data": {
      "text/plain": [
       "{'kfive', 'kone', 'kthree', 'ktwo'}"
      ]
     },
     "execution_count": 3,
     "metadata": {},
     "output_type": "execute_result"
    }
   ],
   "source": [
    "final_stations = set()\n",
    "while states_needed:\n",
    "    bast_station = None\n",
    "    states_covered = set()\n",
    "    for station, states_for_station in stations.items():\n",
    "        covered = states_needed & states_for_station\n",
    "        if len(covered) > len(states_covered):\n",
    "            best_station = station\n",
    "            states_covered = covered\n",
    "            final_stations.add(best_station)\n",
    "            states_needed -= states_covered\n",
    "\n",
    "final_stations"
   ]
  },
  {
   "cell_type": "markdown",
   "metadata": {},
   "source": [
    "NP-Complete problems\n",
    "\n",
    "O(n^2)\n",
    "1. at each step you pick the locally optimal solution\n",
    "1. Dont care about perfect, pretty good is good enough\n",
    "1. perfect is the enemy of good"
   ]
  },
  {
   "cell_type": "code",
   "execution_count": null,
   "metadata": {},
   "outputs": [],
   "source": []
  }
 ],
 "metadata": {
  "kernelspec": {
   "display_name": "Python 3",
   "language": "python",
   "name": "python3"
  },
  "language_info": {
   "codemirror_mode": {
    "name": "ipython",
    "version": 3
   },
   "file_extension": ".py",
   "mimetype": "text/x-python",
   "name": "python",
   "nbconvert_exporter": "python",
   "pygments_lexer": "ipython3",
   "version": "3.6.4"
  }
 },
 "nbformat": 4,
 "nbformat_minor": 2
}
